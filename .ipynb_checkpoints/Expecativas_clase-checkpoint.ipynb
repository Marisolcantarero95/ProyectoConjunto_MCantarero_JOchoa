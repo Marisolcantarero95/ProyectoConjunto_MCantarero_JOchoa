{
 "cells": [
  {
   "cell_type": "markdown",
   "metadata": {},
   "source": [
    "# TAREA 1 - Proyecto conjunto Github y resumen python\n",
    "## Simulación de procesos financieros\n",
    "### 23 de Agosto de 2018\n",
    "#### MARYSOL CANTARERO VELAZQUEZ DEL VALLE \n",
    "##### IF692487"
   ]
  },
  {
   "cell_type": "markdown",
   "metadata": {},
   "source": [
    "Esta tarea consta de una presentación describiendo mis expectativas sobre el curso usando la sintaxis Markdown, con sus distintos tipos de encabezados, código  (algunas ecuaciones), imágenes y algunatabla con información variada."
   ]
  },
  {
   "cell_type": "markdown",
   "metadata": {},
   "source": []
  },
  {
   "cell_type": "markdown",
   "metadata": {},
   "source": [
    "|letra griega|call corto|call largo|put corto|put largo|\n",
    "|------------|----------|----------|---------|---------|\n",
    "|delta       |negativo  |positivo  |positivo |negativo |\n",
    "|gamma       |negativo  |positivo  |negativo |positivo |\n",
    "|vega        |negativo  |positivo  |negativo |positivo |\n",
    "|theta       |positivo  |negativo  |positivo |negativo |"
   ]
  },
  {
   "cell_type": "markdown",
   "metadata": {},
   "source": [
    "\\"
   ]
  }
 ],
 "metadata": {
  "kernelspec": {
   "display_name": "Python [Root]",
   "language": "python",
   "name": "Python [Root]"
  },
  "language_info": {
   "codemirror_mode": {
    "name": "ipython",
    "version": 3
   },
   "file_extension": ".py",
   "mimetype": "text/x-python",
   "name": "python",
   "nbconvert_exporter": "python",
   "pygments_lexer": "ipython3",
   "version": "3.5.2"
  }
 },
 "nbformat": 4,
 "nbformat_minor": 0
}
