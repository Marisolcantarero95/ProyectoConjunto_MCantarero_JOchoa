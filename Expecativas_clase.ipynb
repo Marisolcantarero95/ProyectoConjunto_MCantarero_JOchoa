{
 "cells": [
  {
   "cell_type": "markdown",
   "metadata": {},
   "source": [
    "# TAREA 1 - Proyecto conjunto Github y resumen python\n",
    "## Simulación de procesos financieros"
   ]
  },
  {
   "cell_type": "markdown",
   "metadata": {},
   "source": [
    "![](FINANZAS.JPG.PNG)"
   ]
  },
  {
   "cell_type": "markdown",
   "metadata": {},
   "source": [
    "### 23 de Agosto de 2018\n",
    "#### MARYSOL CANTARERO VELAZQUEZ DEL VALLE \n",
    "##### IF692487"
   ]
  },
  {
   "cell_type": "markdown",
   "metadata": {},
   "source": [
    "##### Esta tarea consta de una presentación describiendo mis expectativas sobre el curso usando la sintaxis Markdown, con sus distintos tipos de encabezados, código  (algunas ecuaciones), imágenes y alguna tabla con información variada."
   ]
  },
  {
   "cell_type": "markdown",
   "metadata": {},
   "source": [
    "Mis expectativas sobre este curso es primero que nada, aprender a programar de una manera más eficiente para poder diseñar, formular, estructurar y solucionar problemas con mayor efectividad. Además a partir de las simulaciones espero lograr tomar las decisiones más apropiadas con estrategias dinámicas.\n",
    "\n",
    "Más que nada espero que esta materia me sirva en un futuro en el ámbito laboral para poder adentrarme a este con mayor entendimiento y habilidades. \n",
    "\n",
    "Además de aprender a progamar con mayor eficiencia, busco aprender a utilizar el lenguaje LaTeX para poder representar en un formato de pagina web , descargando precios de activos, utilizar fórmulas matemáticas más eficientes que otras como Microsoft Word, gráficas dinánimacas, imagenes y de más. Nunca he utilizado esta herramiento y pienso que es bastante útil."
   ]
  },
  {
   "cell_type": "markdown",
   "metadata": {},
   "source": [
    "Algunos conceptos básicos financieros son call y put , de los cuales sus formulas para evaluarse son :\n"
   ]
  },
  {
   "cell_type": "markdown",
   "metadata": {},
   "source": [
    "\\begin{frame}{La opci\\'on de compra (Call)}\n",
    "Una opci\\'on de compra (call) da a su comprador el derecho -pero no la obligaci\\'on- a comprar a un activo subyacente a un precio predeterminado en una fecha concreta. El vendedor de la opci\\'on de compra tiene la obligacion de vender el activo en el caso de que el comprador ejerza el derecho a comprar.\\\\\n",
    "La formula para evaluar una opción de compra es la siguiente:\n",
    "\\[C = S N (d_1) - N (d_2) K e^{- r t} \\]\n",
    "\\end{frame}\n",
    "\\begin{frame}{La opci\\'on de venta (put)}\n",
    "Una opci\\'on de venta (put) da a su poseedor el derecho -pero no la obligaci\\'on- a vender un activo a un precio predeterminado hasta una fecha concreta. El vendedor de la opci\\'on de venta tiene la obligaci\\'on de comprar el activo subyacente si el tenedor de la opci\\'on (comprador del derecho de vender) decide ejercer su derecho.\n",
    "\n",
    "La formula para evaluar una opci\\'on de venta es la siguiente:\n",
    "\n",
    "\\[P = K e^{- r t } N (- d_2) - S N (-d_1) \\]\n",
    "\\end{frame}"
   ]
  },
  {
   "cell_type": "markdown",
   "metadata": {},
   "source": [
    "|9|8|\n",
    "|-|-|\n",
    "|6|5|"
   ]
  },
  {
   "cell_type": "markdown",
   "metadata": {},
   "source": [
    "\\"
   ]
  }
 ],
 "metadata": {
  "anaconda-cloud": {},
  "kernelspec": {
   "display_name": "Python [Root]",
   "language": "python",
   "name": "Python [Root]"
  },
  "language_info": {
   "codemirror_mode": {
    "name": "ipython",
    "version": 3
   },
   "file_extension": ".py",
   "mimetype": "text/x-python",
   "name": "python",
   "nbconvert_exporter": "python",
   "pygments_lexer": "ipython3",
   "version": "3.5.2"
  }
 },
 "nbformat": 4,
 "nbformat_minor": 0
}
