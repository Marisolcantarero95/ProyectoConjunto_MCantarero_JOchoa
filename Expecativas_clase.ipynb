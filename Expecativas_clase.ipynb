{
 "cells": [
  {
   "cell_type": "markdown",
   "metadata": {},
   "source": [
    "# TAREA 1 - Proyecto conjunto Github y resumen python\n",
    "## Simulación de procesos financieros\n",
    "### 23 de Agosto de 2018\n",
    "#### MARYSOL CANTARERO VELAZQUEZ DEL VALLE \n",
    "##### IF692487"
   ]
  },
  {
   "cell_type": "markdown",
   "metadata": {},
   "source": [
    "Esta tarea consta de una presentación describiendo mis expectativas sobre el curso usando la sintaxis Markdown, con sus distintos tipos de encabezados, código  (algunas ecuaciones), imágenes y algunatabla con información variada."
   ]
  },
  {
   "cell_type": "markdown",
   "metadata": {},
   "source": [
    "Mis expectativas sobre este curso es primero que nada, aprender a programas de una manera más eficiente para poder diseñar, formular, estructurar y solucionar problemas con mayor efectividad. Además a partir de las simulaciones espero lograr tomar las decisiones más apropiadas con estrategias dinámicas.\n",
    "\n",
    "Más que nada espero que esta materia me sirva en un futuro en el ámbito laboral para poder adentrarme a este con mayor entendimiento y habilidades. \n",
    "\n",
    "Además de aprender a progamar con mayor eficiencia, busco aprender a utilizar el lenguaje LaTeX para poder representar en un formato de pagina web , descargando precios de activos, utilizar fórmulas matemáticas más eficientes que otras como Microsoft Word, gráficas dinánimacas, imagenes y de más.\n",
    "\n",
    "Se naliza el comportamiento de procesos financieros mediante diseñar, formular, estructurar, solucionar y dar recomendaciones sobre procesos de simulación financiera para la toma de decisiones, estructurando estrategias dinámicas y políticas apropiadas al sistema. • La asignatura está diseñada para que logres dichos propósitos e inicies un proceso que te permita apropiarte de desempeños profesionales muy útiles en tu formación profesional y en tu futuro, al incorporarte a la industria u organizaciones que te demandarán resolver e implementar la simulación de escenarios bajo diferentes situaciones a través de la sistematización de la solución al problema planteado."
   ]
  },
  {
   "cell_type": "markdown",
   "metadata": {},
   "source": [
    "|letra griega|call corto|call largo|put corto|put largo|\n",
    "|------------|----------|----------|---------|---------|\n",
    "|delta       |negativo  |positivo  |positivo |negativo |\n",
    "|gamma       |negativo  |positivo  |negativo |positivo |\n",
    "|vega        |negativo  |positivo  |negativo |positivo |\n",
    "|theta       |positivo  |negativo  |positivo |negativo |"
   ]
  },
  {
   "cell_type": "markdown",
   "metadata": {},
   "source": [
    "\\"
   ]
  }
 ],
 "metadata": {
  "anaconda-cloud": {},
  "kernelspec": {
   "display_name": "Python [Root]",
   "language": "python",
   "name": "Python [Root]"
  },
  "language_info": {
   "codemirror_mode": {
    "name": "ipython",
    "version": 3
   },
   "file_extension": ".py",
   "mimetype": "text/x-python",
   "name": "python",
   "nbconvert_exporter": "python",
   "pygments_lexer": "ipython3",
   "version": "3.5.2"
  }
 },
 "nbformat": 4,
 "nbformat_minor": 0
}
