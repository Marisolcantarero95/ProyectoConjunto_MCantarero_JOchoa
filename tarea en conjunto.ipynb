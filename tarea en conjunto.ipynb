{
 "cells": [
  {
   "cell_type": "code",
   "execution_count": 1,
   "metadata": {
    "collapsed": true
   },
   "outputs": [],
   "source": [
    "### Sobre lo que espero en la clase, creo que es una materia fundamental, pero por mismas razones, no será una materia sencilla, ni muchos menos de poco trabajo. Espero que mas que difícil sea de trabajo ya que la base del curso es prgramación y a menos de que lo que se pida sean códigos de un exagerdo nivel de complejidad, no veo por que la materia sería \"difícil\" con tntes de imposible, sino más bien una materia de trabajo, lógica y prueba y error."
   ]
  },
  {
   "cell_type": "code",
   "execution_count": 1,
   "metadata": {
    "collapsed": false
   },
   "outputs": [
    {
     "name": "stdout",
     "output_type": "stream",
     "text": [
      "Sobre lo que espero en la clase, creo que es una materia fundamental, pero por mismas razones, no será una materia sencilla, ni muchos menos de poco trabajo. Espero que mas que difícil sea de trabajo ya que la base del curso es prgramación y a menos de que lo que se pida sean códigos de un exagerdo nivel de complejidad, no veo por que la materia sería difícil con tntes de imposible, sino más bien una materia de trabajo, lógica y prueba y error.\n"
     ]
    }
   ],
   "source": [
    "print(\"Sobre lo que espero en la clase, creo que es una materia fundamental, pero por mismas razones, no será una materia sencilla, ni muchos menos de poco trabajo. Espero que mas que difícil sea de trabajo ya que la base del curso es prgramación y a menos de que lo que se pida sean códigos de un exagerdo nivel de complejidad, no veo por que la materia sería difícil con tntes de imposible, sino más bien una materia de trabajo, lógica y prueba y error.\")"
   ]
  },
  {
   "cell_type": "code",
   "execution_count": 4,
   "metadata": {
    "collapsed": false
   },
   "outputs": [
    {
     "name": "stdout",
     "output_type": "stream",
     "text": [
      "Sobre lo que espero en la clase, creo que es una materia fundamental, pero por mismas razones, no será una materia sencilla, ni muchos menos de poco trabajo. Espero que mas que difícil sea de trabajo ya que la base del curso es prgramación y a menos de que lo que se pida sean códigos de un exagerdo nivel de complejidad, no veo por que la materia sería difícil con tntes de imposible, sino más bien una materia de trabajo, lógica y prueba y error.\n"
     ]
    }
   ],
   "source": [
    "print(\"Sobre lo que espero en la clase, creo que es una materia fundamental, pero por mismas razones, no será una materia sencilla, ni muchos menos de poco trabajo. Espero que mas que difícil sea de trabajo ya que la base del curso es prgramación y a menos de que lo que se pida sean códigos de un exagerdo nivel de complejidad, no veo por que la materia sería difícil con tntes de imposible, sino más bien una materia de trabajo, lógica y prueba y error.\")"
   ]
  },
  {
   "cell_type": "code",
   "execution_count": 5,
   "metadata": {
    "collapsed": false
   },
   "outputs": [
    {
     "name": "stdout",
     "output_type": "stream",
     "text": [
      "problema 1 Jm_ochoa\n",
      "('Original List:', [12.23, 13.32, 100, 36.32])\n",
      "('One-dimensional numpy array: ', array([  12.23,   13.32,  100.  ,   36.32]))\n"
     ]
    }
   ],
   "source": [
    "print(\"problema 1 Jm_ochoa\")\n",
    "import numpy as np\n",
    "l = [12.23, 13.32, 100, 36.32]\n",
    "print(\"Original List:\",l)\n",
    "a = np.array(l)\n",
    "print(\"One-dimensional numpy array: \",a)"
   ]
  },
  {
   "cell_type": "code",
   "execution_count": 6,
   "metadata": {
    "collapsed": false
   },
   "outputs": [
    {
     "name": "stdout",
     "output_type": "stream",
     "text": [
      "problma 2 jm_ochoa\n",
      "[ 0.  0.  0.  0.  0.  0.  0.  0.  0.  0.]\n",
      "Update sixth value to 11\n",
      "[  0.   0.   0.   0.   0.   0.  11.   0.   0.   0.]\n"
     ]
    }
   ],
   "source": [
    "print(\"problma 2 jm_ochoa\")\n",
    "x = np.zeros(10)\n",
    "print(x)\n",
    "print(\"Update sixth value to 11\")\n",
    "x[6] = 11\n",
    "print(x)"
   ]
  },
  {
   "cell_type": "code",
   "execution_count": 7,
   "metadata": {
    "collapsed": false
   },
   "outputs": [
    {
     "name": "stdout",
     "output_type": "stream",
     "text": [
      "problema 3 jm_ochoa\n",
      "[12 13 14 15 16 17 18 19 20 21 22 23 24 25 26 27 28 29 30 31 32 33 34 35 36\n",
      " 37]\n"
     ]
    }
   ],
   "source": [
    "print(\"problema 3 jm_ochoa\")\n",
    "x = np.arange(12, 38)\n",
    "print(x)"
   ]
  },
  {
   "cell_type": "code",
   "execution_count": 10,
   "metadata": {
    "collapsed": false
   },
   "outputs": [
    {
     "name": "stdout",
     "output_type": "stream",
     "text": [
      "problema 4 jm_ochoa\n",
      "Original\n",
      "[ 1  2  3  4  5  6  7  8  9 10]\n",
      "Invertido\n",
      "[10  9  8  7  6  5  4  3  2  1]\n"
     ]
    }
   ],
   "source": [
    "print(\"problema 4 jm_ochoa\")\n",
    "original = np.arange(1, 11)\n",
    "print(\"Original\")\n",
    "print(original)\n",
    "print(\"Invertido\")\n",
    "inv = original[::-1]\n",
    "print(inv)"
   ]
  },
  {
   "cell_type": "code",
   "execution_count": 11,
   "metadata": {
    "collapsed": false
   },
   "outputs": [
    {
     "name": "stdout",
     "output_type": "stream",
     "text": [
      "problema 5 jm_ochoa\n",
      "Original array:\n",
      "[[ 1.  1.  1.  1.  1.]\n",
      " [ 1.  1.  1.  1.  1.]\n",
      " [ 1.  1.  1.  1.  1.]\n",
      " [ 1.  1.  1.  1.  1.]\n",
      " [ 1.  1.  1.  1.  1.]]\n",
      "1 on the border and 0 inside in the array\n",
      "[[ 1.  1.  1.  1.  1.]\n",
      " [ 1.  0.  0.  0.  1.]\n",
      " [ 1.  0.  0.  0.  1.]\n",
      " [ 1.  0.  0.  0.  1.]\n",
      " [ 1.  1.  1.  1.  1.]]\n"
     ]
    }
   ],
   "source": [
    "print(\"problema 5 jm_ochoa\")\n",
    "x = np.ones((5,5))\n",
    "print(\"Original array:\")\n",
    "print(x)\n",
    "print(\"1 on the border and 0 inside in the array\")\n",
    "x[1:-1,1:-1] = 0\n",
    "print(x)"
   ]
  },
  {
   "cell_type": "code",
   "execution_count": 13,
   "metadata": {
    "collapsed": false
   },
   "outputs": [
    {
     "name": "stdout",
     "output_type": "stream",
     "text": [
      "problema 6 jm_ochoa\n",
      "Original array:\n",
      "[[ 1.  1.  1.]\n",
      " [ 1.  1.  1.]\n",
      " [ 1.  1.  1.]]\n",
      "0 on the border and 1 inside in the array\n",
      "[[ 0.  0.  0.  0.  0.]\n",
      " [ 0.  1.  1.  1.  0.]\n",
      " [ 0.  1.  1.  1.  0.]\n",
      " [ 0.  1.  1.  1.  0.]\n",
      " [ 0.  0.  0.  0.  0.]]\n"
     ]
    }
   ],
   "source": [
    "print(\"problema 6 jm_ochoa\")\n",
    "x = np.ones((3,3))\n",
    "print(\"Original array:\")\n",
    "print(x)\n",
    "print(\"0 on the border and 1 inside in the array\")\n",
    "x = np.pad(x, pad_width=1, mode='constant', constant_values=0)\n",
    "print(x)"
   ]
  },
  {
   "cell_type": "code",
   "execution_count": 14,
   "metadata": {
    "collapsed": false
   },
   "outputs": [
    {
     "name": "stdout",
     "output_type": "stream",
     "text": [
      "problema 7 jm_ochoa\n",
      "Checkerboard pattern:\n",
      "[[0 1 0 1 0 1 0 1]\n",
      " [1 0 1 0 1 0 1 0]\n",
      " [0 1 0 1 0 1 0 1]\n",
      " [1 0 1 0 1 0 1 0]\n",
      " [0 1 0 1 0 1 0 1]\n",
      " [1 0 1 0 1 0 1 0]\n",
      " [0 1 0 1 0 1 0 1]\n",
      " [1 0 1 0 1 0 1 0]]\n"
     ]
    }
   ],
   "source": [
    "print(\"problema 7 jm_ochoa\")\n",
    "x = np.ones((3,3))\n",
    "print(\"Checkerboard pattern:\")\n",
    "x = np.zeros((8,8),dtype=int)\n",
    "x[1::2,::2] = 1\n",
    "x[::2,1::2] = 1\n",
    "print(x)"
   ]
  },
  {
   "cell_type": "code",
   "execution_count": 19,
   "metadata": {
    "collapsed": false
   },
   "outputs": [
    {
     "name": "stdout",
     "output_type": "stream",
     "text": [
      "problema 8 jm_ochoa\n",
      "Values in Fahrenheit degrees:\n",
      "[  0.    12.    45.21  34.    99.91]\n",
      "Values in  Centigrade degrees:\n",
      "[-17.         -10.33333333   8.11666667   1.88888889  38.50555556]\n",
      "por discrepacians en el modod de conversón los resultados resultaon más aproximados que exactos\n"
     ]
    }
   ],
   "source": [
    "print(\"problema 8 jm_ochoa\")\n",
    "fvalues = [0, 12, 45.21, 34, 99.91]\n",
    "F = np.array(fvalues)\n",
    "print(\"Values in Fahrenheit degrees:\")\n",
    "print(F)\n",
    "print(\"Values in  Centigrade degrees:\") \n",
    "print(5*F/9 - 5*32/9) \n",
    "print(\"por discrepacians en el modod de conversón los resultados resultaon más aproximados que exactos.\")"
   ]
  },
  {
   "cell_type": "code",
   "execution_count": 20,
   "metadata": {
    "collapsed": false
   },
   "outputs": [
    {
     "name": "stdout",
     "output_type": "stream",
     "text": [
      "problema 9 jm_ochoa\n",
      "('Array1: ', array([ 0, 10, 20, 40, 60, 80]))\n",
      "('Array2: ', [10, 30, 40, 50, 70])\n",
      "Unique values in array1 that are not in array2:\n",
      "[ 0 20 60 80]\n"
     ]
    }
   ],
   "source": [
    "print(\"problema 9 jm_ochoa\")\n",
    "array1 = np.array([0, 10, 20, 40, 60, 80])\n",
    "print(\"Array1: \",array1)\n",
    "array2 = [10, 30, 40, 50, 70]\n",
    "print(\"Array2: \",array2)\n",
    "print(\"Unique values in array1 that are not in array2:\")\n",
    "print(np.setdiff1d(array1, array2))"
   ]
  },
  {
   "cell_type": "code",
   "execution_count": 21,
   "metadata": {
    "collapsed": false
   },
   "outputs": [
    {
     "name": "stdout",
     "output_type": "stream",
     "text": [
      "problema 10 jm_ochoa\n",
      "[[4 0 0 0]\n",
      " [0 5 0 0]\n",
      " [0 0 6 0]\n",
      " [0 0 0 8]]\n"
     ]
    }
   ],
   "source": [
    "print(\"problema 10 jm_ochoa\")\n",
    "x =  np.diagflat([4, 5, 6, 8])\n",
    "print(x)"
   ]
  },
  {
   "cell_type": "code",
   "execution_count": null,
   "metadata": {
    "collapsed": true
   },
   "outputs": [],
   "source": []
  }
 ],
 "metadata": {
  "kernelspec": {
   "display_name": "Python [Anaconda2]",
   "language": "python",
   "name": "Python [Anaconda2]"
  },
  "language_info": {
   "codemirror_mode": {
    "name": "ipython",
    "version": 2
   },
   "file_extension": ".py",
   "mimetype": "text/x-python",
   "name": "python",
   "nbconvert_exporter": "python",
   "pygments_lexer": "ipython2",
   "version": "2.7.12"
  }
 },
 "nbformat": 4,
 "nbformat_minor": 0
}
